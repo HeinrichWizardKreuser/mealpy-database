{
 "cells": [
  {
   "cell_type": "markdown",
   "id": "1d58476a-1f00-435c-a789-df2a1076e1a2",
   "metadata": {},
   "source": [
    "# Scrape sources to build dataframe\n",
    "Here we take the html that we have crawled from online websites and scrape them to extract the data that we are interested in.\n",
    "\n",
    "We then store this data in a dataframe that we then save to ``"
   ]
  },
  {
   "cell_type": "code",
   "execution_count": 1,
   "id": "7c3ee7ce-0beb-489c-985f-86e4a3bb6be5",
   "metadata": {},
   "outputs": [],
   "source": [
    "import sys\n",
    "sys.path.append('../src/')"
   ]
  },
  {
   "cell_type": "code",
   "execution_count": 2,
   "id": "db56ddea-912e-4e55-b187-fdf9dc26fe96",
   "metadata": {},
   "outputs": [],
   "source": [
    "import pandas as pd\n",
    "import utils"
   ]
  },
  {
   "cell_type": "markdown",
   "id": "46dced32-5e55-4da6-ae45-d75104028183",
   "metadata": {},
   "source": [
    "# Load opfunu functions"
   ]
  },
  {
   "cell_type": "code",
   "execution_count": 3,
   "id": "fa1d1746-8143-4f73-ba62-9d3a15aed362",
   "metadata": {},
   "outputs": [],
   "source": [
    "from opfunu.dimension_based import benchmark1d, benchmark2d, benchmark3d, benchmarknd\n",
    "from opfunu.type_based import multi_modal, uni_modal\n",
    "import inspect"
   ]
  },
  {
   "cell_type": "code",
   "execution_count": 4,
   "id": "0827cd51-671b-4826-94da-4cc8f39cdacd",
   "metadata": {},
   "outputs": [],
   "source": [
    "classes = [\n",
    "    benchmark1d, benchmark2d, benchmark3d, benchmarknd, # total methods = 62\n",
    "    # multi_modal, uni_modal, # total methods = 47\n",
    "]"
   ]
  },
  {
   "cell_type": "code",
   "execution_count": 5,
   "id": "72ec1468-37cd-4e9e-a707-70b956213d84",
   "metadata": {},
   "outputs": [],
   "source": [
    "def cls2name(cls):\n",
    "    module = cls.Functions.__module__\n",
    "    name = module.split('.')[-1]\n",
    "    return name\n",
    "\n",
    "def cls2methods(cls):\n",
    "    return list(dict(inspect.getmembers(cls.Functions, predicate=inspect.isfunction)).keys())\n",
    "\n",
    "def build_cls_df(classes):\n",
    "    rows = []\n",
    "    for cls in classes:\n",
    "        name = cls2name(cls)\n",
    "        methods = cls2methods(cls)\n",
    "        for method_name in methods:\n",
    "            clean_name = method_name.replace('_', ' ').strip()\n",
    "            clean_name = ' '.join([ cn.capitalize() for cn in clean_name.split(' ') ])\n",
    "            rows.append(dict(\n",
    "                #cls=name,\n",
    "                name=clean_name,\n",
    "                #method=method_name,\n",
    "                call=f'{name}.Functions().{method_name}',\n",
    "            ))\n",
    "    df = pd.DataFrame(rows)\n",
    "    df = df.sort_values('name')\n",
    "    df = df.reset_index(drop=True)\n",
    "    return df"
   ]
  },
  {
   "cell_type": "code",
   "execution_count": 6,
   "id": "d2dc2c0c-9e3f-416b-9908-fc5e67e3695e",
   "metadata": {},
   "outputs": [
    {
     "data": {
      "text/html": [
       "<div>\n",
       "<style scoped>\n",
       "    .dataframe tbody tr th:only-of-type {\n",
       "        vertical-align: middle;\n",
       "    }\n",
       "\n",
       "    .dataframe tbody tr th {\n",
       "        vertical-align: top;\n",
       "    }\n",
       "\n",
       "    .dataframe thead th {\n",
       "        text-align: right;\n",
       "    }\n",
       "</style>\n",
       "<table border=\"1\" class=\"dataframe\">\n",
       "  <thead>\n",
       "    <tr style=\"text-align: right;\">\n",
       "      <th></th>\n",
       "      <th>name</th>\n",
       "      <th>call</th>\n",
       "    </tr>\n",
       "  </thead>\n",
       "  <tbody>\n",
       "    <tr>\n",
       "      <th>0</th>\n",
       "      <td>Ackley</td>\n",
       "      <td>benchmarknd.Functions()._ackley__</td>\n",
       "    </tr>\n",
       "    <tr>\n",
       "      <th>1</th>\n",
       "      <td>Ackley N2</td>\n",
       "      <td>benchmark2d.Functions()._ackley_n2__</td>\n",
       "    </tr>\n",
       "    <tr>\n",
       "      <th>2</th>\n",
       "      <td>Ackley N3</td>\n",
       "      <td>benchmark2d.Functions()._ackley_n3__</td>\n",
       "    </tr>\n",
       "    <tr>\n",
       "      <th>3</th>\n",
       "      <td>Ackley N4</td>\n",
       "      <td>benchmarknd.Functions()._ackley_n4__</td>\n",
       "    </tr>\n",
       "    <tr>\n",
       "      <th>4</th>\n",
       "      <td>Adjiman</td>\n",
       "      <td>benchmark2d.Functions()._adjiman__</td>\n",
       "    </tr>\n",
       "    <tr>\n",
       "      <th>...</th>\n",
       "      <td>...</td>\n",
       "      <td>...</td>\n",
       "    </tr>\n",
       "    <tr>\n",
       "      <th>58</th>\n",
       "      <td>Xin She Yang</td>\n",
       "      <td>benchmarknd.Functions()._xin_she_yang__</td>\n",
       "    </tr>\n",
       "    <tr>\n",
       "      <th>59</th>\n",
       "      <td>Xin She Yang N2</td>\n",
       "      <td>benchmarknd.Functions()._xin_she_yang_n2__</td>\n",
       "    </tr>\n",
       "    <tr>\n",
       "      <th>60</th>\n",
       "      <td>Xin She Yang N3</td>\n",
       "      <td>benchmarknd.Functions()._xin_she_yang_n3__</td>\n",
       "    </tr>\n",
       "    <tr>\n",
       "      <th>61</th>\n",
       "      <td>Xin She Yang N4</td>\n",
       "      <td>benchmarknd.Functions()._xin_she_yang_n4__</td>\n",
       "    </tr>\n",
       "    <tr>\n",
       "      <th>62</th>\n",
       "      <td>Zakharov</td>\n",
       "      <td>benchmarknd.Functions()._zakharov__</td>\n",
       "    </tr>\n",
       "  </tbody>\n",
       "</table>\n",
       "<p>63 rows × 2 columns</p>\n",
       "</div>"
      ],
      "text/plain": [
       "               name                                        call\n",
       "0            Ackley           benchmarknd.Functions()._ackley__\n",
       "1         Ackley N2        benchmark2d.Functions()._ackley_n2__\n",
       "2         Ackley N3        benchmark2d.Functions()._ackley_n3__\n",
       "3         Ackley N4        benchmarknd.Functions()._ackley_n4__\n",
       "4           Adjiman          benchmark2d.Functions()._adjiman__\n",
       "..              ...                                         ...\n",
       "58     Xin She Yang     benchmarknd.Functions()._xin_she_yang__\n",
       "59  Xin She Yang N2  benchmarknd.Functions()._xin_she_yang_n2__\n",
       "60  Xin She Yang N3  benchmarknd.Functions()._xin_she_yang_n3__\n",
       "61  Xin She Yang N4  benchmarknd.Functions()._xin_she_yang_n4__\n",
       "62         Zakharov         benchmarknd.Functions()._zakharov__\n",
       "\n",
       "[63 rows x 2 columns]"
      ]
     },
     "execution_count": 6,
     "metadata": {},
     "output_type": "execute_result"
    }
   ],
   "source": [
    "df = build_cls_df(classes)\n",
    "df"
   ]
  },
  {
   "cell_type": "code",
   "execution_count": null,
   "id": "16b7afde-089a-4941-a989-dcfbcd01a87c",
   "metadata": {},
   "outputs": [],
   "source": []
  },
  {
   "cell_type": "markdown",
   "id": "a0e156ed-d3a2-4508-9ed5-097f21e93768",
   "metadata": {},
   "source": [
    "# Load Scraped Data"
   ]
  },
  {
   "cell_type": "code",
   "execution_count": 7,
   "id": "7c26611b-3181-4127-a732-5022935ff8b8",
   "metadata": {},
   "outputs": [],
   "source": [
    "from scrapers import collector\n",
    "\n",
    "source2df = collector.scrape()\n",
    "\n",
    "# from collectors import sfu, infinity77, benchmarkfcns\n",
    "# import json\n"
   ]
  },
  {
   "cell_type": "markdown",
   "id": "ca6d8b0c-ed1e-4a9c-b926-3e5f2f375b5d",
   "metadata": {
    "tags": []
   },
   "source": [
    "# Map opfunu benchmarks to sources"
   ]
  },
  {
   "cell_type": "code",
   "execution_count": 8,
   "id": "260d485d-6883-4627-9eaa-c6fa9f376956",
   "metadata": {},
   "outputs": [],
   "source": [
    "# Load opfunu functions\n",
    "classes = [\n",
    "    benchmark1d, benchmark2d, benchmark3d, benchmarknd, # total methods = 62\n",
    "    # multi_modal, uni_modal, # total methods = 47\n",
    "]\n",
    "df = build_cls_df(classes)\n",
    "\n",
    "# Map opfunu benchmarks to sources\n",
    "for source_id, source_df in source2df.items():\n",
    "    # create mapping df\n",
    "    source_map, *_ = utils.diff_map(df.name, source_df.name)\n",
    "    source_map_df = pd.DataFrame(source_map.items(), columns=['name', source_id])\n",
    "    # merge\n",
    "    df = pd.merge(left=df, right=source_map_df, on='name', how='outer')\n",
    "\n",
    "df.to_csv('../assets/build_db/df.csv', index=False)"
   ]
  },
  {
   "cell_type": "markdown",
   "id": "4eb4285b-90aa-47ea-b791-e9104176ae79",
   "metadata": {},
   "source": [
    "# select which sources are superior"
   ]
  },
  {
   "cell_type": "code",
   "execution_count": 9,
   "id": "a789d1cd-3cfa-4e21-a58b-47f7e6989b0e",
   "metadata": {},
   "outputs": [],
   "source": [
    "# MAYBE TODO\n",
    "# rows = []\n",
    "# for source_id, source_df in sources.items():\n",
    "#     print(source_id)\n",
    "#     row = {'source': source_id}\n",
    "#     for column in source_df.columns:\n",
    "#         row[column] = True\n",
    "#     rows.append(row)\n",
    "# pd.DataFrame(rows)"
   ]
  },
  {
   "cell_type": "markdown",
   "id": "31780ea7-7ce2-4333-83c7-7cac2c212937",
   "metadata": {},
   "source": [
    "# Verify Mapping"
   ]
  },
  {
   "cell_type": "code",
   "execution_count": 10,
   "id": "6cc445fc-439b-47b5-b66c-3b819afaaf9b",
   "metadata": {},
   "outputs": [],
   "source": [
    "# df.to_csv('df.csv', index=False)"
   ]
  },
  {
   "cell_type": "code",
   "execution_count": 11,
   "id": "94e7a696-cc36-4936-8a71-9d6e16332b6d",
   "metadata": {},
   "outputs": [],
   "source": [
    "# open csv file and manually remove names from sources that are wrong"
   ]
  },
  {
   "cell_type": "code",
   "execution_count": 12,
   "id": "a2425356-869b-428d-9bef-ac5cc5b81f64",
   "metadata": {},
   "outputs": [],
   "source": [
    "#df = pd.read_csv('df.csv')"
   ]
  },
  {
   "cell_type": "code",
   "execution_count": null,
   "id": "47690133-3d99-45dd-a4ab-d886c80e673b",
   "metadata": {},
   "outputs": [],
   "source": []
  },
  {
   "cell_type": "code",
   "execution_count": null,
   "id": "a2e0f65a-ae60-42d2-b0cc-063cb06a2b3a",
   "metadata": {},
   "outputs": [],
   "source": []
  }
 ],
 "metadata": {
  "kernelspec": {
   "display_name": "Python 3 (ipykernel)",
   "language": "python",
   "name": "python3"
  },
  "language_info": {
   "codemirror_mode": {
    "name": "ipython",
    "version": 3
   },
   "file_extension": ".py",
   "mimetype": "text/x-python",
   "name": "python",
   "nbconvert_exporter": "python",
   "pygments_lexer": "ipython3",
   "version": "3.10.4"
  }
 },
 "nbformat": 4,
 "nbformat_minor": 5
}
